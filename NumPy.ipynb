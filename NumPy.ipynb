{
 "cells": [
  {
   "cell_type": "code",
   "execution_count": 44,
   "id": "faafb1b8",
   "metadata": {},
   "outputs": [
    {
     "name": "stdout",
     "output_type": "stream",
     "text": [
      "<class 'numpy.ndarray'>\n"
     ]
    }
   ],
   "source": [
    "import numpy as np\n",
    "an_array=np.array([3,33,333])  #create a rank 1 array\n",
    "print(type(an_array))          #the type of an ndarray is :''<class''numpy."
   ]
  },
  {
   "cell_type": "code",
   "execution_count": 45,
   "id": "8d071076",
   "metadata": {},
   "outputs": [
    {
     "name": "stdout",
     "output_type": "stream",
     "text": [
      "(3,)\n"
     ]
    }
   ],
   "source": [
    "print(an_array.shape)  #its has only one dimention"
   ]
  },
  {
   "cell_type": "code",
   "execution_count": 46,
   "id": "64ed7d5c",
   "metadata": {},
   "outputs": [
    {
     "name": "stdout",
     "output_type": "stream",
     "text": [
      "3 33 333\n"
     ]
    }
   ],
   "source": [
    "print(an_array[0],an_array[1],an_array[2])#bcoz this is 1-rank,we need only one index to access each element"
   ]
  },
  {
   "cell_type": "code",
   "execution_count": 47,
   "id": "ba69793e",
   "metadata": {},
   "outputs": [
    {
     "name": "stdout",
     "output_type": "stream",
     "text": [
      "[888  33 333]\n"
     ]
    }
   ],
   "source": [
    "an_array[0]=888    #ndarray is mutable,0th position value is changed here\n",
    "print(an_array)"
   ]
  },
  {
   "cell_type": "code",
   "execution_count": 48,
   "id": "3c5e187c",
   "metadata": {},
   "outputs": [
    {
     "data": {
      "text/plain": [
       "(1, 3)"
      ]
     },
     "execution_count": 48,
     "metadata": {},
     "output_type": "execute_result"
    }
   ],
   "source": [
    "an_array2=np.array([[3,33,333]]) # matrix\n",
    "an_array2.shape"
   ]
  },
  {
   "cell_type": "code",
   "execution_count": 49,
   "id": "f5ae6637",
   "metadata": {},
   "outputs": [
    {
     "name": "stdout",
     "output_type": "stream",
     "text": [
      "[[11 12 13]\n",
      " [21 22 23]]\n",
      "the shape is 2 rows,3 columns: (2, 3)\n",
      "accessing elements[0,0],[0,1],and [1,0] of the ndarray: 11 , 12 , 21\n"
     ]
    }
   ],
   "source": [
    "another=np.array([[11,12,13],[21,22,23]]) #create a rank 2\n",
    "print(another)\n",
    "print(\"the shape is 2 rows,3 columns:\",another.shape)\n",
    "print(\"accessing elements[0,0],[0,1],and [1,0] of the ndarray:\",another[0,0],\",\",another[0,1],\",\",another[1,0])\n",
    "\n",
    "#variable will always be out of inverted commas in print statement because they are going to change\n",
    "#values which are specific/static will always be in inverted commas\n",
    "#as in print statements\n"
   ]
  },
  {
   "cell_type": "code",
   "execution_count": 88,
   "id": "f1971e27",
   "metadata": {},
   "outputs": [
    {
     "name": "stdout",
     "output_type": "stream",
     "text": [
      "[[9. 9. 9. 9.]\n",
      " [9. 9. 9. 9.]\n",
      " [9. 9. 9. 9.]]\n"
     ]
    }
   ],
   "source": [
    "#create a 2*2 array filled with 9.0\n",
    "ex2=np.full((3,4),9.0) #inbuild func\n",
    "print(ex2)"
   ]
  },
  {
   "cell_type": "code",
   "execution_count": 51,
   "id": "d1ae65cf",
   "metadata": {},
   "outputs": [
    {
     "name": "stdout",
     "output_type": "stream",
     "text": [
      "[[0. 0.]\n",
      " [0. 0.]]\n"
     ]
    }
   ],
   "source": [
    "#create a 2*2 array of zeros\n",
    "ex1=np.zeros((2,2))\n",
    "print(ex1)"
   ]
  },
  {
   "cell_type": "code",
   "execution_count": 52,
   "id": "6bc15df6",
   "metadata": {},
   "outputs": [
    {
     "name": "stdout",
     "output_type": "stream",
     "text": [
      "[[1. 0. 0. 0.]\n",
      " [0. 1. 0. 0.]\n",
      " [0. 0. 1. 0.]\n",
      " [0. 0. 0. 1.]]\n"
     ]
    }
   ],
   "source": [
    "#create a 2*2 matrix with diagonal 1s and the others 0\n",
    "ex3=np.eye(4,4)\n",
    "print(ex3)"
   ]
  },
  {
   "cell_type": "code",
   "execution_count": 53,
   "id": "4ab71554",
   "metadata": {},
   "outputs": [
    {
     "name": "stdout",
     "output_type": "stream",
     "text": [
      "[[1. 1. 1.]\n",
      " [1. 1. 1.]]\n"
     ]
    }
   ],
   "source": [
    "#create an array of ones\n",
    "ex4=np.ones((2,3))\n",
    "print(ex4)"
   ]
  },
  {
   "cell_type": "code",
   "execution_count": 54,
   "id": "25a9fd98",
   "metadata": {},
   "outputs": [
    {
     "name": "stdout",
     "output_type": "stream",
     "text": [
      "(2, 3)\n",
      "\n",
      "1.0\n"
     ]
    }
   ],
   "source": [
    "#notice that the above ndarray (ex4)is actually rank 2,it is a 2x1 array\n",
    "print(ex4.shape)\n",
    "#which means we need to use two indexes to access an element\n",
    "print()\n",
    "print(ex4[0,0])"
   ]
  },
  {
   "cell_type": "code",
   "execution_count": 55,
   "id": "23a517c2",
   "metadata": {},
   "outputs": [
    {
     "name": "stdout",
     "output_type": "stream",
     "text": [
      "[[0.06829891 0.58495112 0.15446467 0.81114818]\n",
      " [0.26450995 0.21828359 0.56090975 0.77667322]\n",
      " [0.02545859 0.51005369 0.07667489 0.36924329]]\n"
     ]
    }
   ],
   "source": [
    "#create an array of random floats between 0 and 1\n",
    "ex5=np.random.random((3,4))\n",
    "print(ex5)"
   ]
  },
  {
   "cell_type": "code",
   "execution_count": 56,
   "id": "c6717f2a",
   "metadata": {},
   "outputs": [
    {
     "name": "stdout",
     "output_type": "stream",
     "text": [
      "[[11 12 13 14]\n",
      " [21 22 23 24]\n",
      " [31 32 33 34]]\n"
     ]
    }
   ],
   "source": [
    "import numpy as np\n",
    "#rank 2 array of shape (3,4)\n",
    "an_array=np.array([[11,12,13,14],[21,22,23,24],[31,32,33,34]])\n",
    "print(an_array)"
   ]
  },
  {
   "cell_type": "code",
   "execution_count": 57,
   "id": "92a2db85",
   "metadata": {},
   "outputs": [
    {
     "name": "stdout",
     "output_type": "stream",
     "text": [
      "[[12]\n",
      " [22]\n",
      " [32]]\n",
      "[[12 13]\n",
      " [22 23]]\n"
     ]
    }
   ],
   "source": [
    "a_slice=an_array[0:2,1:3]\n",
    "#select zero and one rows, 1 nad 2 column\n",
    "print(an_array[0:3,1:2])   #[rows range - select 0,1,2 values , columns range - select 1 value only]\n",
    "print(a_slice)"
   ]
  },
  {
   "cell_type": "code",
   "execution_count": 58,
   "id": "e85aa387",
   "metadata": {},
   "outputs": [
    {
     "name": "stdout",
     "output_type": "stream",
     "text": [
      "Before: 12\n",
      "After: 1000\n"
     ]
    }
   ],
   "source": [
    "print(\"Before:\" ,an_array[0,1])#inspect the element at 0,1\n",
    "a_slice[0,0]=1000 #a_slice[0,0] is the samepiece of data as an_array[0,1]\n",
    "print(\"After:\" ,an_array[0,1])"
   ]
  },
  {
   "cell_type": "code",
   "execution_count": 59,
   "id": "90e8b500",
   "metadata": {},
   "outputs": [
    {
     "data": {
      "text/plain": [
       "array([[  11, 1000,   13,   14],\n",
       "       [  21,   22,   23,   24],\n",
       "       [  31,   32,   33,   34]])"
      ]
     },
     "execution_count": 59,
     "metadata": {},
     "output_type": "execute_result"
    }
   ],
   "source": [
    "an_array"
   ]
  },
  {
   "cell_type": "code",
   "execution_count": 60,
   "id": "f540c322",
   "metadata": {},
   "outputs": [
    {
     "data": {
      "text/plain": [
       "array([[1000,   13],\n",
       "       [  22,   23]])"
      ]
     },
     "execution_count": 60,
     "metadata": {},
     "output_type": "execute_result"
    }
   ],
   "source": [
    "a_slice"
   ]
  },
  {
   "cell_type": "code",
   "execution_count": 61,
   "id": "a586fb2f",
   "metadata": {},
   "outputs": [
    {
     "data": {
      "text/plain": [
       "array([[  11, 1000,   13,   14],\n",
       "       [  21,   22,   23,   24],\n",
       "       [  31,   32,   33,   34]])"
      ]
     },
     "execution_count": 61,
     "metadata": {},
     "output_type": "execute_result"
    }
   ],
   "source": [
    "an_array"
   ]
  },
  {
   "cell_type": "code",
   "execution_count": 62,
   "id": "82e37dac",
   "metadata": {},
   "outputs": [
    {
     "name": "stdout",
     "output_type": "stream",
     "text": [
      "[[11 12 13 14]\n",
      " [21 22 23 24]\n",
      " [31 32 33 34]]\n"
     ]
    }
   ],
   "source": [
    "import numpy as np\n",
    "an_array=np.array([[11,12,13,14],[21,22,23,24],[31,32,33,34]]) #array shape (3,4)\n",
    "print(an_array)"
   ]
  },
  {
   "cell_type": "code",
   "execution_count": 63,
   "id": "fc601c0c",
   "metadata": {},
   "outputs": [
    {
     "name": "stdout",
     "output_type": "stream",
     "text": [
      "[21 22 23 24] (4,)\n"
     ]
    }
   ],
   "source": [
    "#using both integerindexing and slicing generates an array of lower rank\n",
    "row_rank1=an_array[1,:]#rank1 view\n",
    "print(row_rank1,row_rank1.shape) #ntice only a single[]"
   ]
  },
  {
   "cell_type": "code",
   "execution_count": 64,
   "id": "e79f7147",
   "metadata": {},
   "outputs": [
    {
     "name": "stdout",
     "output_type": "stream",
     "text": [
      "[[21 22 23 24]] (1, 4)\n"
     ]
    }
   ],
   "source": [
    "#slicing alone:generates an array of the same rank as the an_array\n",
    "row_rank2=an_array[1:2, :]#rank2 view\n",
    "print(row_rank2,row_rank2.shape) #ntice only a single[]"
   ]
  },
  {
   "cell_type": "code",
   "execution_count": 65,
   "id": "1d7c4848",
   "metadata": {},
   "outputs": [
    {
     "name": "stdout",
     "output_type": "stream",
     "text": [
      "[12 22 32] (3,)\n"
     ]
    }
   ],
   "source": [
    "column_rank1=an_array[:,1]\n",
    "print(column_rank1,column_rank1.shape)"
   ]
  },
  {
   "cell_type": "code",
   "execution_count": 66,
   "id": "c09acd9f",
   "metadata": {},
   "outputs": [
    {
     "name": "stdout",
     "output_type": "stream",
     "text": [
      "[12 22 32] (3,)\n",
      "\n",
      "[[12]\n",
      " [22]\n",
      " [32]] (3, 1)\n"
     ]
    }
   ],
   "source": [
    "col_rank1=an_array[:,1]\n",
    "col_rank2=an_array[:,1:2]\n",
    "print(col_rank1,col_rank1.shape)\n",
    "print()\n",
    "print(col_rank2,col_rank2.shape)"
   ]
  },
  {
   "cell_type": "code",
   "execution_count": 67,
   "id": "fa45b6f3",
   "metadata": {},
   "outputs": [
    {
     "name": "stdout",
     "output_type": "stream",
     "text": [
      "Original Array\n",
      "[[11 12 13]\n",
      " [21 22 23]\n",
      " [31 32 33]\n",
      " [41 42 43]]\n"
     ]
    }
   ],
   "source": [
    "an_array=np.array([[11,12,13],[21,22,23],[31,32,33],[41,42,43]])\n",
    "print('Original Array')\n",
    "print(an_array)"
   ]
  },
  {
   "cell_type": "code",
   "execution_count": 68,
   "id": "27723f42",
   "metadata": {},
   "outputs": [
    {
     "name": "stdout",
     "output_type": "stream",
     "text": [
      "\n",
      "Col indices picked: [0 1 2 0]\n",
      "\n",
      "Rows indices picked: [0 1 2 3]\n"
     ]
    }
   ],
   "source": [
    "col_indices=np.array([0,1,2,0])\n",
    "print('\\nCol indices picked:',col_indices)\n",
    "\n",
    "row_indices=np.arange(4)\n",
    "print('\\nRows indices picked:',row_indices)"
   ]
  },
  {
   "cell_type": "code",
   "execution_count": 69,
   "id": "45505caa",
   "metadata": {},
   "outputs": [
    {
     "name": "stdout",
     "output_type": "stream",
     "text": [
      "0 , 0\n",
      "1 , 1\n",
      "2 , 2\n",
      "3 , 0\n"
     ]
    }
   ],
   "source": [
    "for i,j in zip (row_indices,col_indices): #examine the pairing of roe_indices n col_indices.\n",
    "    print(i,\",\",j)\n",
    "    \n",
    "    '''for i in row_indices\n",
    "    for j incol_indices'''"
   ]
  },
  {
   "cell_type": "code",
   "execution_count": 70,
   "id": "dc17ee96",
   "metadata": {},
   "outputs": [
    {
     "name": "stdout",
     "output_type": "stream",
     "text": [
      "values in the array at those indices: [11 22 33 41]\n"
     ]
    }
   ],
   "source": [
    "#select one element from each row\n",
    "print ('values in the array at those indices:',an_array[row_indices,col_indices])\n",
    "#an_array[0, 0], an_array[1,1],an_array[2, 2], an_array[3,0] = an_array[row_indices, col_indices]"
   ]
  },
  {
   "cell_type": "code",
   "execution_count": 71,
   "id": "e23e4535",
   "metadata": {},
   "outputs": [
    {
     "name": "stdout",
     "output_type": "stream",
     "text": [
      "\n",
      "changed Array:\n"
     ]
    },
    {
     "data": {
      "text/plain": [
       "array([[1011,   12,   13],\n",
       "       [  21, 1022,   23],\n",
       "       [  31,   32, 1033],\n",
       "       [1041,   42,   43]])"
      ]
     },
     "execution_count": 71,
     "metadata": {},
     "output_type": "execute_result"
    }
   ],
   "source": [
    "#change one element from each row using the indices selected\n",
    "an_array[row_indices,col_indices] +=1000  #a=a+10 is sam as a+=10\n",
    "print('\\nchanged Array:')\n",
    "an_array"
   ]
  },
  {
   "cell_type": "code",
   "execution_count": 72,
   "id": "81872692",
   "metadata": {},
   "outputs": [
    {
     "name": "stdout",
     "output_type": "stream",
     "text": [
      "[[11 12]\n",
      " [21 22]\n",
      " [31 32]]\n"
     ]
    }
   ],
   "source": [
    "#create a3x2 array\n",
    "an_array=np.array([[11,12],[21,22],[31,32]])\n",
    "print(an_array)"
   ]
  },
  {
   "cell_type": "code",
   "execution_count": 73,
   "id": "e66f2c16",
   "metadata": {},
   "outputs": [
    {
     "data": {
      "text/plain": [
       "array([[False, False],\n",
       "       [ True,  True],\n",
       "       [ True,  True]])"
      ]
     },
     "execution_count": 73,
     "metadata": {},
     "output_type": "execute_result"
    }
   ],
   "source": [
    "#create a filter which will be boolean values \n",
    "filter=(an_array>15)\n",
    "filter"
   ]
  },
  {
   "cell_type": "code",
   "execution_count": 74,
   "id": "eadbf0eb",
   "metadata": {},
   "outputs": [
    {
     "name": "stdout",
     "output_type": "stream",
     "text": [
      "[21 22 31 32]\n"
     ]
    }
   ],
   "source": [
    "#we can now select just those elements whivh meet that creteria\n",
    "\n",
    "print(an_array[filter]) #values that r greater than 5\n"
   ]
  },
  {
   "cell_type": "code",
   "execution_count": 75,
   "id": "32f2bd66",
   "metadata": {},
   "outputs": [
    {
     "data": {
      "text/plain": [
       "array([21, 22, 31, 32])"
      ]
     },
     "execution_count": 75,
     "metadata": {},
     "output_type": "execute_result"
    }
   ],
   "source": [
    "an_array[an_array>15]  #for short we could hv just used this approach without declaring filter"
   ]
  },
  {
   "cell_type": "code",
   "execution_count": 76,
   "id": "901ed62e",
   "metadata": {},
   "outputs": [
    {
     "name": "stdout",
     "output_type": "stream",
     "text": [
      "[[ 11 112]\n",
      " [ 21 122]\n",
      " [ 31 132]]\n"
     ]
    }
   ],
   "source": [
    "an_array[an_array%2==0]+=100  #adding 100 to even values\n",
    "print(an_array)"
   ]
  },
  {
   "cell_type": "code",
   "execution_count": 77,
   "id": "d3c9ceb7",
   "metadata": {},
   "outputs": [
    {
     "name": "stdout",
     "output_type": "stream",
     "text": [
      "[2 3 6 7 8 9]\n"
     ]
    }
   ],
   "source": [
    "an_array=np.array([2,3,6,7,8,9])\n",
    "print(an_array)\n"
   ]
  },
  {
   "cell_type": "code",
   "execution_count": 78,
   "id": "ac52bd4f",
   "metadata": {},
   "outputs": [
    {
     "name": "stdout",
     "output_type": "stream",
     "text": [
      "[6 7]\n"
     ]
    }
   ],
   "source": [
    "slice1=an_array[2:4]\n",
    "print(slice1)"
   ]
  },
  {
   "cell_type": "code",
   "execution_count": 79,
   "id": "8100975a",
   "metadata": {},
   "outputs": [
    {
     "name": "stdout",
     "output_type": "stream",
     "text": [
      "8\n"
     ]
    }
   ],
   "source": [
    "slice2=an_array[4]\n",
    "print(slice2)"
   ]
  },
  {
   "cell_type": "code",
   "execution_count": 80,
   "id": "76a1580a",
   "metadata": {},
   "outputs": [
    {
     "name": "stdout",
     "output_type": "stream",
     "text": [
      "[[11 12 13 14]\n",
      " [21 22 23 24]\n",
      " [31 32 33 34]]\n"
     ]
    }
   ],
   "source": [
    "a=np.array([[11,12,13,14],[21,22,23,24],[31,32,33,34]])\n",
    "print(a)"
   ]
  },
  {
   "cell_type": "code",
   "execution_count": 84,
   "id": "4d49fdb0",
   "metadata": {},
   "outputs": [
    {
     "name": "stdout",
     "output_type": "stream",
     "text": [
      "[[12 13]\n",
      " [22 23]]\n"
     ]
    }
   ],
   "source": [
    "slice=a[0:2,1:3]  # 0th row & 1st row,1st column & 2rd column\n",
    "print(slice)"
   ]
  },
  {
   "cell_type": "code",
   "execution_count": 85,
   "id": "450716eb",
   "metadata": {},
   "outputs": [
    {
     "name": "stdout",
     "output_type": "stream",
     "text": [
      "[[13 14]\n",
      " [23 24]]\n"
     ]
    }
   ],
   "source": [
    "slice2=a[0:2,2:4]  #0th row n 1st row,2nd column n 3rd column\n",
    "print(slice2)"
   ]
  },
  {
   "cell_type": "code",
   "execution_count": 86,
   "id": "c596fc06",
   "metadata": {},
   "outputs": [
    {
     "name": "stdout",
     "output_type": "stream",
     "text": [
      "[[23 24]\n",
      " [33 34]]\n"
     ]
    }
   ],
   "source": [
    "slice3=a[1:3,2:4]  #1st row n 2nd row ,2nd column n 3rd column\n",
    "print(slice3)"
   ]
  },
  {
   "cell_type": "code",
   "execution_count": 87,
   "id": "891d999f",
   "metadata": {},
   "outputs": [
    {
     "name": "stdout",
     "output_type": "stream",
     "text": [
      "[[13 14]\n",
      " [23 24]\n",
      " [33 34]]\n"
     ]
    }
   ],
   "source": [
    "column1=a[:,2:4]\n",
    "print(column1)"
   ]
  },
  {
   "cell_type": "code",
   "execution_count": 89,
   "id": "5b93a46a",
   "metadata": {},
   "outputs": [
    {
     "name": "stdout",
     "output_type": "stream",
     "text": [
      "int32\n"
     ]
    }
   ],
   "source": [
    "ex1=np.array([11,12]) #pythn assign the datatype\n",
    "print(ex1.dtype)"
   ]
  },
  {
   "cell_type": "code",
   "execution_count": 90,
   "id": "b93accea",
   "metadata": {},
   "outputs": [
    {
     "name": "stdout",
     "output_type": "stream",
     "text": [
      "float64\n"
     ]
    }
   ],
   "source": [
    "ex2=np.array([11.0,12.0]) #pythn assign the datatype\n",
    "print(ex2.dtype)"
   ]
  },
  {
   "cell_type": "code",
   "execution_count": 127,
   "id": "07c153cf",
   "metadata": {},
   "outputs": [
    {
     "name": "stdout",
     "output_type": "stream",
     "text": [
      "int64\n"
     ]
    },
    {
     "data": {
      "text/plain": [
       "array([11, 12], dtype=int64)"
      ]
     },
     "execution_count": 127,
     "metadata": {},
     "output_type": "execute_result"
    }
   ],
   "source": [
    "ex3=np.array([11,12],dtype=np.int64) #you cam also tell pythn to assign the datatype\n",
    "print(ex3.dtype)\n",
    "ex3"
   ]
  },
  {
   "cell_type": "code",
   "execution_count": 96,
   "id": "98156019",
   "metadata": {},
   "outputs": [
    {
     "name": "stdout",
     "output_type": "stream",
     "text": [
      "int64\n",
      "\n",
      "[11 12]\n"
     ]
    }
   ],
   "source": [
    "ex4=np.array([11.1,12.7],dtype=np.int64)\n",
    "print(ex4.dtype)\n",
    "print()\n",
    "print(ex4)"
   ]
  },
  {
   "cell_type": "code",
   "execution_count": 97,
   "id": "85574e75",
   "metadata": {},
   "outputs": [
    {
     "name": "stdout",
     "output_type": "stream",
     "text": [
      "float64\n",
      "\n",
      "[11. 12.]\n"
     ]
    }
   ],
   "source": [
    "ex5=np.array([11,12],dtype=np.float64)\n",
    "print(ex5.dtype)\n",
    "print()\n",
    "print(ex5)"
   ]
  },
  {
   "cell_type": "markdown",
   "id": "319d2dee",
   "metadata": {},
   "source": [
    "# Arithmetic operations"
   ]
  },
  {
   "cell_type": "code",
   "execution_count": 1,
   "id": "66251b5c",
   "metadata": {},
   "outputs": [
    {
     "name": "stdout",
     "output_type": "stream",
     "text": [
      "[[111 112]\n",
      " [121 122]]\n",
      "\n",
      "[[211.1 212.1]\n",
      " [221.1 222.1]]\n"
     ]
    },
    {
     "name": "stderr",
     "output_type": "stream",
     "text": [
      "<ipython-input-1-4bd6ca778f4d>:2: DeprecationWarning: `np.int` is a deprecated alias for the builtin `int`. To silence this warning, use `int` by itself. Doing this will not modify any behavior and is safe. When replacing `np.int`, you may wish to use e.g. `np.int64` or `np.int32` to specify the precision. If you wish to review your current use, check the release note link for additional information.\n",
      "Deprecated in NumPy 1.20; for more details and guidance: https://numpy.org/devdocs/release/1.20.0-notes.html#deprecations\n",
      "  x= np.array([[111,112],[121,122]],dtype=np.int)\n"
     ]
    }
   ],
   "source": [
    "import numpy as np\n",
    "x= np.array([[111,112],[121,122]],dtype=np.int)\n",
    "y= np.array([[211.1,212.1],[221.1,222.1]],dtype=np.float64)\n",
    "\n",
    "print(x)\n",
    "print()\n",
    "print(y)"
   ]
  },
  {
   "cell_type": "code",
   "execution_count": 2,
   "id": "f5b80109",
   "metadata": {},
   "outputs": [
    {
     "name": "stdout",
     "output_type": "stream",
     "text": [
      "[[322.1 324.1]\n",
      " [342.1 344.1]]\n",
      "\n",
      "[[322.1 324.1]\n",
      " [342.1 344.1]]\n"
     ]
    }
   ],
   "source": [
    "#add\n",
    "print(x+y)\n",
    "print()\n",
    "print(np.add(x,y))"
   ]
  },
  {
   "cell_type": "code",
   "execution_count": 3,
   "id": "94c2e9cc",
   "metadata": {},
   "outputs": [
    {
     "name": "stdout",
     "output_type": "stream",
     "text": [
      "[[23432.1 23755.2]\n",
      " [26753.1 27096.2]]\n",
      "\n",
      "[[23432.1 23755.2]\n",
      " [26753.1 27096.2]]\n"
     ]
    }
   ],
   "source": [
    "#multipy\n",
    "print(x*y)\n",
    "print()\n",
    "print(np.multiply(x,y))"
   ]
  },
  {
   "cell_type": "code",
   "execution_count": 4,
   "id": "cb7f77af",
   "metadata": {},
   "outputs": [
    {
     "name": "stdout",
     "output_type": "stream",
     "text": [
      "[[-100.1 -100.1]\n",
      " [-100.1 -100.1]]\n"
     ]
    }
   ],
   "source": [
    "print(x-y) #substraction"
   ]
  },
  {
   "cell_type": "code",
   "execution_count": 5,
   "id": "1af833a4",
   "metadata": {},
   "outputs": [
    {
     "name": "stdout",
     "output_type": "stream",
     "text": [
      "[[-100.1 -100.1]\n",
      " [-100.1 -100.1]]\n"
     ]
    }
   ],
   "source": [
    "print(np.subtract(x,y))"
   ]
  },
  {
   "cell_type": "code",
   "execution_count": 6,
   "id": "3a194de1",
   "metadata": {},
   "outputs": [
    {
     "name": "stdout",
     "output_type": "stream",
     "text": [
      "[[0.52581715 0.52805281]\n",
      " [0.54726368 0.54930212]]\n",
      "\n",
      "[[0.52581715 0.52805281]\n",
      " [0.54726368 0.54930212]]\n"
     ]
    }
   ],
   "source": [
    "#divide\n",
    "\n",
    "print(x/y)\n",
    "print()\n",
    "print(np.divide(x,y))"
   ]
  },
  {
   "cell_type": "code",
   "execution_count": 7,
   "id": "ad3fda10",
   "metadata": {},
   "outputs": [
    {
     "name": "stdout",
     "output_type": "stream",
     "text": [
      "[[10.53565375 10.58300524]\n",
      " [11.         11.04536102]]\n"
     ]
    }
   ],
   "source": [
    "#square root\n",
    "print(np.sqrt(x))\n"
   ]
  },
  {
   "cell_type": "code",
   "execution_count": 8,
   "id": "ba605ee2",
   "metadata": {},
   "outputs": [
    {
     "name": "stdout",
     "output_type": "stream",
     "text": [
      "[[1.60948707e+48 4.37503945e+48]\n",
      " [3.54513118e+52 9.63666567e+52]]\n"
     ]
    }
   ],
   "source": [
    "#exponent(e**x)\n",
    "print(np.exp(x))"
   ]
  },
  {
   "cell_type": "code",
   "execution_count": 9,
   "id": "c52a650e",
   "metadata": {},
   "outputs": [
    {
     "name": "stdout",
     "output_type": "stream",
     "text": [
      "[[  6.44051497   6.72951466  -6.50520096   5.07273587  -5.98516151]\n",
      " [ -4.84405148   1.07337794 -18.15622893  11.40943349  14.59386008]]\n"
     ]
    }
   ],
   "source": [
    "#setup a random 2*5 matrix\n",
    "arr=10 * np.random.randn(2,5)  #dtype-float \n",
    "print(arr)"
   ]
  },
  {
   "cell_type": "code",
   "execution_count": 10,
   "id": "9b299ff2",
   "metadata": {},
   "outputs": [
    {
     "name": "stdout",
     "output_type": "stream",
     "text": [
      "0.9828794126241714\n"
     ]
    }
   ],
   "source": [
    "#compute the mean for all elemnts\n",
    "print(arr.mean())"
   ]
  },
  {
   "cell_type": "code",
   "execution_count": 11,
   "id": "480dfcba",
   "metadata": {},
   "outputs": [
    {
     "name": "stdout",
     "output_type": "stream",
     "text": [
      "[1.15048061 0.81527822]\n"
     ]
    }
   ],
   "source": [
    "#compute mean by row\n",
    "print(arr.mean(axis=1))"
   ]
  },
  {
   "cell_type": "code",
   "execution_count": 12,
   "id": "f665bd31",
   "metadata": {},
   "outputs": [
    {
     "name": "stdout",
     "output_type": "stream",
     "text": [
      "[  0.79823175   3.9014463  -12.33071495   8.24108468   4.30434928]\n"
     ]
    }
   ],
   "source": [
    "#compute mean by column\n",
    "print(arr.mean(axis=0))"
   ]
  },
  {
   "cell_type": "code",
   "execution_count": 13,
   "id": "e9b56336",
   "metadata": {},
   "outputs": [
    {
     "name": "stdout",
     "output_type": "stream",
     "text": [
      "9.828794126241714\n"
     ]
    }
   ],
   "source": [
    "#summ all the eemnts\n",
    "print(arr.sum())"
   ]
  },
  {
   "cell_type": "code",
   "execution_count": 14,
   "id": "2cea2f43",
   "metadata": {},
   "outputs": [
    {
     "name": "stdout",
     "output_type": "stream",
     "text": [
      "[5.07273587 1.07337794]\n"
     ]
    }
   ],
   "source": [
    "#compute the median by rw\n",
    "print(np.median(arr,axis=1))"
   ]
  },
  {
   "cell_type": "code",
   "execution_count": 15,
   "id": "44596797",
   "metadata": {},
   "outputs": [
    {
     "name": "stdout",
     "output_type": "stream",
     "text": [
      "[  0.79823175   3.9014463  -12.33071495   8.24108468   4.30434928]\n"
     ]
    }
   ],
   "source": [
    "#compute the median by column\n",
    "print(np.median(arr,axis=0))"
   ]
  },
  {
   "cell_type": "code",
   "execution_count": 16,
   "id": "0723ed32",
   "metadata": {},
   "outputs": [
    {
     "name": "stdout",
     "output_type": "stream",
     "text": [
      "[-1.08730556 -1.26075637  0.07603809  0.05974765  0.37884166  0.75912952\n",
      " -0.21759982  1.20314585 -0.1292695   1.35338811]\n"
     ]
    }
   ],
   "source": [
    "#create a 10 element array of randoms\n",
    "unsorted=np.random.randn(10)\n",
    "print(unsorted)"
   ]
  },
  {
   "cell_type": "code",
   "execution_count": 29,
   "id": "8d5e6295",
   "metadata": {},
   "outputs": [
    {
     "name": "stdout",
     "output_type": "stream",
     "text": [
      "unsorted elments: [-1.26075637 -1.08730556 -0.21759982 -0.1292695   0.05974765  0.07603809\n",
      "  0.37884166  0.75912952  1.20314585  1.35338811]\n",
      "\n",
      "sorted elements: [-1.26075637 -1.08730556 -0.21759982 -0.1292695   0.05974765  0.07603809\n",
      "  0.37884166  0.75912952  1.20314585  1.35338811]\n"
     ]
    }
   ],
   "source": [
    "sorted=np.array(unsorted)\n",
    "sorted.sort()  #it will arrange values in ascending order\n",
    "\n",
    "print(\"unsorted elments:\", unsorted)\n",
    "print()\n",
    "print(\"sorted elements:\", sorted)"
   ]
  },
  {
   "cell_type": "code",
   "execution_count": 18,
   "id": "a632c989",
   "metadata": {},
   "outputs": [
    {
     "name": "stdout",
     "output_type": "stream",
     "text": [
      "[-1.26075637 -1.08730556 -0.21759982 -0.1292695   0.05974765  0.07603809\n",
      "  0.37884166  0.75912952  1.20314585  1.35338811]\n"
     ]
    }
   ],
   "source": [
    "unsorted.sort()  \n",
    "print(unsorted)"
   ]
  },
  {
   "cell_type": "code",
   "execution_count": 19,
   "id": "22192de9",
   "metadata": {},
   "outputs": [
    {
     "data": {
      "text/plain": [
       "array([ 1,  2,  4, 55])"
      ]
     },
     "execution_count": 19,
     "metadata": {},
     "output_type": "execute_result"
    }
   ],
   "source": [
    "#to return unique values\n",
    "array=np.array([1,2,1,4,2,1,4,2,55])\n",
    "np.unique(array) "
   ]
  },
  {
   "cell_type": "code",
   "execution_count": 20,
   "id": "f49b1916",
   "metadata": {},
   "outputs": [
    {
     "name": "stdout",
     "output_type": "stream",
     "text": [
      "['desk' 'chair' 'bulb'] ['lamp' 'bulb' 'chair']\n"
     ]
    }
   ],
   "source": [
    "s1=np.array(['desk','chair','bulb'])\n",
    "s2=np.array(['lamp','bulb','chair'])\n",
    "print(s1,s2)\n"
   ]
  },
  {
   "cell_type": "code",
   "execution_count": 21,
   "id": "48e971b9",
   "metadata": {},
   "outputs": [
    {
     "name": "stdout",
     "output_type": "stream",
     "text": [
      "['bulb' 'chair']\n"
     ]
    }
   ],
   "source": [
    "print(np.intersect1d(s1,s2))  #commom values bwtween s1 n s2\n"
   ]
  },
  {
   "cell_type": "code",
   "execution_count": 22,
   "id": "30a2d7e2",
   "metadata": {},
   "outputs": [
    {
     "name": "stdout",
     "output_type": "stream",
     "text": [
      "['bulb' 'chair' 'desk' 'lamp']\n"
     ]
    }
   ],
   "source": [
    "print(np.union1d(s1,s2))  #common n uncommon values btw s1 n s2"
   ]
  },
  {
   "cell_type": "code",
   "execution_count": 23,
   "id": "33fcef8d",
   "metadata": {},
   "outputs": [
    {
     "name": "stdout",
     "output_type": "stream",
     "text": [
      "['desk']\n"
     ]
    }
   ],
   "source": [
    "print(np.setdiff1d(s1,s2)) #elements in s1 that are not in s2"
   ]
  },
  {
   "cell_type": "code",
   "execution_count": 24,
   "id": "be7fe0c2",
   "metadata": {},
   "outputs": [
    {
     "name": "stdout",
     "output_type": "stream",
     "text": [
      "['lamp']\n"
     ]
    }
   ],
   "source": [
    "print(np.setdiff1d(s2,s1)) #elements in s2 that are not in s1"
   ]
  },
  {
   "cell_type": "code",
   "execution_count": 25,
   "id": "857c598a",
   "metadata": {},
   "outputs": [
    {
     "name": "stdout",
     "output_type": "stream",
     "text": [
      "[False  True  True]\n"
     ]
    }
   ],
   "source": [
    "print(np.in1d(s1,s2)) #which elements of s1 is also in s2"
   ]
  },
  {
   "cell_type": "code",
   "execution_count": 32,
   "id": "3f0ef97f",
   "metadata": {},
   "outputs": [
    {
     "name": "stdout",
     "output_type": "stream",
     "text": [
      "[False  True  True]\n"
     ]
    }
   ],
   "source": [
    "print(np.in1d(s2,s1)) #which elements of s2 is also in s1"
   ]
  },
  {
   "cell_type": "code",
   "execution_count": 19,
   "id": "146deb0f",
   "metadata": {},
   "outputs": [
    {
     "data": {
      "text/plain": [
       "array([[0., 0., 0.],\n",
       "       [0., 0., 0.],\n",
       "       [0., 0., 0.],\n",
       "       [0., 0., 0.]])"
      ]
     },
     "execution_count": 19,
     "metadata": {},
     "output_type": "execute_result"
    }
   ],
   "source": [
    "import numpy as np\n",
    "\n",
    "start=np.zeros((4,3))\n",
    "start"
   ]
  },
  {
   "cell_type": "code",
   "execution_count": 20,
   "id": "87e79c62",
   "metadata": {},
   "outputs": [
    {
     "name": "stdout",
     "output_type": "stream",
     "text": [
      "[1 0 2]\n"
     ]
    }
   ],
   "source": [
    "#create a rank 1 ndarray wth 3 values\n",
    "\n",
    "add_rows=np.array([1,0,2])\n",
    "print(add_rows)"
   ]
  },
  {
   "cell_type": "code",
   "execution_count": 21,
   "id": "f55cc674",
   "metadata": {},
   "outputs": [
    {
     "data": {
      "text/plain": [
       "array([[1., 0., 2.],\n",
       "       [1., 0., 2.],\n",
       "       [1., 0., 2.],\n",
       "       [1., 0., 2.]])"
      ]
     },
     "execution_count": 21,
     "metadata": {},
     "output_type": "execute_result"
    }
   ],
   "source": [
    "y=start+add_rows  #add to each row of start using broadcasting\n",
    "y"
   ]
  },
  {
   "cell_type": "code",
   "execution_count": 22,
   "id": "b0008151",
   "metadata": {},
   "outputs": [
    {
     "name": "stdout",
     "output_type": "stream",
     "text": [
      "[[0]\n",
      " [1]\n",
      " [2]\n",
      " [3]]\n"
     ]
    }
   ],
   "source": [
    "add_cols=np.array([[0,1,2,3]])  #4x1 ndarray\n",
    "add_cols=add_cols.T  # transpose:- converts rows into column n vice versa\n",
    "\n",
    "print(add_cols)"
   ]
  },
  {
   "cell_type": "code",
   "execution_count": 23,
   "id": "9845cf66",
   "metadata": {},
   "outputs": [
    {
     "name": "stdout",
     "output_type": "stream",
     "text": [
      "[[0. 0. 0.]\n",
      " [1. 1. 1.]\n",
      " [2. 2. 2.]\n",
      " [3. 3. 3.]]\n"
     ]
    }
   ],
   "source": [
    "y=start+add_cols  #add toeach column of start using broadcasting\n",
    "print(y)"
   ]
  },
  {
   "cell_type": "code",
   "execution_count": 24,
   "id": "8dc0a9d7",
   "metadata": {},
   "outputs": [
    {
     "name": "stdout",
     "output_type": "stream",
     "text": [
      "[[2. 2. 2.]\n",
      " [2. 2. 2.]\n",
      " [2. 2. 2.]\n",
      " [2. 2. 2.]]\n"
     ]
    }
   ],
   "source": [
    "#this will just broadcast in both dimensions\n",
    "\n",
    "add_scalar=np.array([2])\n",
    "print(start+add_scalar)"
   ]
  },
  {
   "cell_type": "code",
   "execution_count": 53,
   "id": "9a24a511",
   "metadata": {},
   "outputs": [
    {
     "name": "stdout",
     "output_type": "stream",
     "text": [
      "[[ 1  2  3  4]\n",
      " [ 5  6  7  8]\n",
      " [ 9 10 11 12]]\n",
      "\n",
      "[[10 20 30 40]]\n",
      "\n",
      "[[11 22 33 44]\n",
      " [15 26 37 48]\n",
      " [19 30 41 52]]\n"
     ]
    }
   ],
   "source": [
    "array1=np.array([[1,2,3,4],[5,6,7,8],[9,10,11,12]])   #3x4\n",
    "array2=np.array([[10,20,30,40]]) #1x4\n",
    "print(array1)\n",
    "print()\n",
    "print (array2)\n",
    "print()\n",
    "print(array1+array2)"
   ]
  },
  {
   "cell_type": "code",
   "execution_count": 26,
   "id": "34d7def0",
   "metadata": {},
   "outputs": [],
   "source": [
    "from numpy import arange\n",
    "from timeit import Timer  #n\n",
    "\n",
    "size = 1000000\n",
    "timeits = 1000"
   ]
  },
  {
   "cell_type": "code",
   "execution_count": 27,
   "id": "c44234db",
   "metadata": {},
   "outputs": [
    {
     "name": "stdout",
     "output_type": "stream",
     "text": [
      "<class 'numpy.ndarray'>\n"
     ]
    }
   ],
   "source": [
    "#create thendarray with values 0,1,2,....,size-1\n",
    "nd_array=arange(size) #arange (4), arange(1000000)\n",
    "print(type(nd_array))"
   ]
  },
  {
   "cell_type": "code",
   "execution_count": 28,
   "id": "e26a5853",
   "metadata": {},
   "outputs": [
    {
     "name": "stdout",
     "output_type": "stream",
     "text": [
      "Time taken by numpy ndarray: 0.000815 seconds\n"
     ]
    }
   ],
   "source": [
    "timer_numpy=Timer(\"nd_array.sum()\" , \"from __main__ import nd_array\")\n",
    "\n",
    "print(\"Time taken by numpy ndarray: %f seconds\" %\n",
    "      (timer_numpy.timeit(timeits)/timeits))"
   ]
  },
  {
   "cell_type": "code",
   "execution_count": 29,
   "id": "8d8534ac",
   "metadata": {},
   "outputs": [
    {
     "name": "stdout",
     "output_type": "stream",
     "text": [
      "<class 'list'>\n"
     ]
    }
   ],
   "source": [
    "#create list with values 0,1,2,...size-1\n",
    "a_list=list(range(size)) #range(end) 1000000\n",
    "print(type(a_list))"
   ]
  },
  {
   "cell_type": "code",
   "execution_count": 30,
   "id": "f067f901",
   "metadata": {},
   "outputs": [
    {
     "name": "stdout",
     "output_type": "stream",
     "text": [
      "Time taken by list: 0.049878 seconds\n"
     ]
    }
   ],
   "source": [
    "# timer expects the operation as parameter ,here we passsum(a_list)\n",
    "\n",
    "timer_list=Timer(\"sum(a_list)\" , \"from __main__ import a_list\")\n",
    "\n",
    "print(\"Time taken by list: %f seconds\" %\n",
    "      (timer_list.timeit(timeits)/timeits))"
   ]
  },
  {
   "cell_type": "markdown",
   "id": "dffc0925",
   "metadata": {},
   "source": [
    "# binary format"
   ]
  },
  {
   "cell_type": "code",
   "execution_count": 31,
   "id": "fc53a890",
   "metadata": {},
   "outputs": [],
   "source": [
    "import numpy as np\n",
    "x=np.array ([23.23,24.24])"
   ]
  },
  {
   "cell_type": "code",
   "execution_count": 32,
   "id": "1cb14b35",
   "metadata": {},
   "outputs": [
    {
     "data": {
      "text/plain": [
       "array([23.23, 24.24])"
      ]
     },
     "execution_count": 32,
     "metadata": {},
     "output_type": "execute_result"
    }
   ],
   "source": [
    "np.save('an_array',x)  #saves value in x to an_array\n",
    "np.load('an_array.npy')"
   ]
  },
  {
   "cell_type": "markdown",
   "id": "d434e4b7",
   "metadata": {},
   "source": [
    "# Dot product on matrices n inner product on vectors"
   ]
  },
  {
   "cell_type": "code",
   "execution_count": 33,
   "id": "e3bbf7af",
   "metadata": {},
   "outputs": [
    {
     "name": "stdout",
     "output_type": "stream",
     "text": [
      "[[4 4]\n",
      " [4 4]]\n",
      "\n",
      "[[4 4]\n",
      " [4 4]]\n"
     ]
    }
   ],
   "source": [
    "x2d=np.array([[1,1],[1,1]])  #dot products of 2 matrix\n",
    "y2d=np.array([[2,2],[2,2]])\n",
    "\n",
    "print(x2d.dot(y2d))\n",
    "print()\n",
    "print(np.dot(x2d,y2d))"
   ]
  },
  {
   "cell_type": "code",
   "execution_count": 34,
   "id": "dc7eafdd",
   "metadata": {},
   "outputs": [
    {
     "name": "stdout",
     "output_type": "stream",
     "text": [
      "180\n",
      "\n",
      "180\n"
     ]
    }
   ],
   "source": [
    "a1d=np.array([9,9])  #inner product of 2 vectors\n",
    "b1d=np.array([10,10])\n",
    "\n",
    "print(a1d.dot(b1d))\n",
    "print()\n",
    "print(np.dot(a1d,b1d))"
   ]
  },
  {
   "cell_type": "code",
   "execution_count": 35,
   "id": "5e5b57b8",
   "metadata": {},
   "outputs": [
    {
     "name": "stdout",
     "output_type": "stream",
     "text": [
      "[18 18]\n",
      "\n",
      "[18 18]\n"
     ]
    }
   ],
   "source": [
    "#Dot product of arrayn vector\n",
    "\n",
    "print(x2d.dot(a1d)) # ([9,9]),([[1,1],[1,1]])  [1*9+1*9, 1*9+1*9]= [18,18] \n",
    "                                                                #  [18,18]\n",
    "print()\n",
    "print(np.dot(x2d,a1d))"
   ]
  },
  {
   "cell_type": "markdown",
   "id": "4cf20b59",
   "metadata": {},
   "source": [
    "# Sum"
   ]
  },
  {
   "cell_type": "code",
   "execution_count": 61,
   "id": "4ee45558",
   "metadata": {},
   "outputs": [
    {
     "name": "stdout",
     "output_type": "stream",
     "text": [
      "[[11 12]\n",
      " [21 22]]\n",
      "66\n"
     ]
    }
   ],
   "source": [
    "#sum elements in the array\n",
    "\n",
    "ex1=np.array([[11,12],[21,22]])\n",
    "print(ex1)\n",
    "print(np.sum(ex1))   #add all members"
   ]
  },
  {
   "cell_type": "code",
   "execution_count": 37,
   "id": "0ca549c9",
   "metadata": {},
   "outputs": [
    {
     "name": "stdout",
     "output_type": "stream",
     "text": [
      "[32 34]\n"
     ]
    }
   ],
   "source": [
    "print(np.sum(ex1,axis=0))  #columnwise sum\n"
   ]
  },
  {
   "cell_type": "code",
   "execution_count": 38,
   "id": "b21b06ac",
   "metadata": {},
   "outputs": [
    {
     "name": "stdout",
     "output_type": "stream",
     "text": [
      "[23 43]\n"
     ]
    }
   ],
   "source": [
    "print(np.sum(ex1,axis=1))  #rowwise sum"
   ]
  },
  {
   "cell_type": "code",
   "execution_count": 39,
   "id": "08ea7590",
   "metadata": {},
   "outputs": [
    {
     "data": {
      "text/plain": [
       "array([-0.5325242 , -0.79536885, -0.75763519, -1.44563814, -0.61690522,\n",
       "        0.48137262,  0.32962343,  0.79230138])"
      ]
     },
     "execution_count": 39,
     "metadata": {},
     "output_type": "execute_result"
    }
   ],
   "source": [
    "x=np.random.randn(8)  #random array\n",
    "x"
   ]
  },
  {
   "cell_type": "code",
   "execution_count": 40,
   "id": "d3644086",
   "metadata": {},
   "outputs": [
    {
     "data": {
      "text/plain": [
       "array([ 0.68504864, -0.88653842,  0.20440641,  1.08035201,  0.20182094,\n",
       "        0.68682559, -0.31154917,  0.41772444])"
      ]
     },
     "execution_count": 40,
     "metadata": {},
     "output_type": "execute_result"
    }
   ],
   "source": [
    "y=np.random.randn(8)  #another random array\n",
    "y"
   ]
  },
  {
   "cell_type": "code",
   "execution_count": 41,
   "id": "7ece0213",
   "metadata": {},
   "outputs": [
    {
     "data": {
      "text/plain": [
       "array([ 0.68504864, -0.79536885,  0.20440641,  1.08035201,  0.20182094,\n",
       "        0.68682559,  0.32962343,  0.79230138])"
      ]
     },
     "execution_count": 41,
     "metadata": {},
     "output_type": "execute_result"
    }
   ],
   "source": [
    "np.maximum(x,y)"
   ]
  },
  {
   "cell_type": "code",
   "execution_count": 42,
   "id": "f019e20b",
   "metadata": {},
   "outputs": [
    {
     "data": {
      "text/plain": [
       "array([1.45794213, 0.11870784, 0.45871359, 0.98294406, 0.99439661,\n",
       "       1.44571595, 0.54096377, 0.72977702])"
      ]
     },
     "execution_count": 42,
     "metadata": {},
     "output_type": "execute_result"
    }
   ],
   "source": [
    "# returns elements wise maximum between two arrays\n",
    "import numpy as np\n",
    "x=np.random.randn(8)\n",
    "y=np.random.randn(8)\n",
    "np.maximum(x,y)\n"
   ]
  },
  {
   "cell_type": "code",
   "execution_count": 43,
   "id": "4a21c1cb",
   "metadata": {},
   "outputs": [
    {
     "data": {
      "text/plain": [
       "array([ 0,  1,  2,  3,  4,  5,  6,  7,  8,  9, 10, 11, 12, 13, 14, 15, 16,\n",
       "       17, 18, 19])"
      ]
     },
     "execution_count": 43,
     "metadata": {},
     "output_type": "execute_result"
    }
   ],
   "source": [
    "#grab values from 0 through 19 in an aray\n",
    "arr=np.arange(20)\n",
    "arr"
   ]
  },
  {
   "cell_type": "code",
   "execution_count": 44,
   "id": "91c1454a",
   "metadata": {},
   "outputs": [
    {
     "data": {
      "text/plain": [
       "array([[ 0,  1,  2,  3,  4],\n",
       "       [ 5,  6,  7,  8,  9],\n",
       "       [10, 11, 12, 13, 14],\n",
       "       [15, 16, 17, 18, 19]])"
      ]
     },
     "execution_count": 44,
     "metadata": {},
     "output_type": "execute_result"
    }
   ],
   "source": [
    "#reshape to be a 4x5 matrix\n",
    "\n",
    "arr.reshape(4,5)  #5x4"
   ]
  },
  {
   "cell_type": "code",
   "execution_count": 45,
   "id": "46be2024",
   "metadata": {},
   "outputs": [
    {
     "name": "stdout",
     "output_type": "stream",
     "text": [
      "[[ 0  5 10 15]\n",
      " [ 1  6 11 16]\n",
      " [ 2  7 12 17]\n",
      " [ 3  8 13 18]\n",
      " [ 4  9 14 19]]\n"
     ]
    }
   ],
   "source": [
    "print(arr.reshape(4,5).T)"
   ]
  },
  {
   "cell_type": "code",
   "execution_count": 71,
   "id": "9f7a0e0e",
   "metadata": {},
   "outputs": [
    {
     "name": "stdout",
     "output_type": "stream",
     "text": [
      "[[1 1 1]\n",
      " [2 2 2]\n",
      " [3 3 3]]\n",
      "\n",
      "[[2 2 3]\n",
      " [2 2 3]\n",
      " [2 2 3]]\n",
      "\n",
      "[[ 6  6  9]\n",
      " [12 12 18]\n",
      " [18 18 27]]\n",
      "\n",
      "[[ 6 12 18]\n",
      " [ 6 12 18]\n",
      " [ 9 18 27]]\n",
      "\n",
      "[[3 3 4]\n",
      " [4 4 5]\n",
      " [5 5 6]]\n"
     ]
    }
   ],
   "source": [
    "a=np.array([[1,1,1],[2,2,2],[3,3,3]])\n",
    "b=np.array([[2,2,3],[2,2,3],[2,2,3]])\n",
    "print(a)\n",
    "print()\n",
    "print(b)\n",
    "print()\n",
    "print(np.dot(a,b))\n",
    "print()\n",
    "x=np.dot(a,b)\n",
    "print(x.T)\n",
    "print()\n",
    "print(np.add(a,b))"
   ]
  },
  {
   "cell_type": "code",
   "execution_count": 73,
   "id": "0b171ace",
   "metadata": {},
   "outputs": [
    {
     "name": "stdout",
     "output_type": "stream",
     "text": [
      "[ 1 22  3 44  5]\n"
     ]
    }
   ],
   "source": [
    "x1=np.array([1,2,3,4,5])\n",
    "y1=np.array([11,22,33,44,55])\n",
    "\n",
    "#where we hv true in filter it will print x1 value n for false y1 value\n",
    "#this is the wrking of \"where\" function \n",
    "\n",
    "filter=np.array([ True, False,True,False,True])\n",
    "\n",
    "out=np.where(filter,x1,y1)\n",
    "print(out)"
   ]
  },
  {
   "cell_type": "code",
   "execution_count": 82,
   "id": "c86c4dd1",
   "metadata": {},
   "outputs": [
    {
     "data": {
      "text/plain": [
       "array([[  -1, 1000,   -1,   -1,   -1],\n",
       "       [  -1,   -1,   -1, 1000,   -1],\n",
       "       [1000,   -1, 1000,   -1,   -1],\n",
       "       [  -1, 1000, 1000, 1000,   -1],\n",
       "       [  -1,   -1,   -1,   -1, 1000]])"
      ]
     },
     "execution_count": 82,
     "metadata": {},
     "output_type": "execute_result"
    }
   ],
   "source": [
    "mat=np.random.randn(5,5)\n",
    "mat\n",
    "np.where(mat>0.5,1000,-1)"
   ]
  },
  {
   "cell_type": "markdown",
   "id": "4e8ae040",
   "metadata": {},
   "source": []
  },
  {
   "cell_type": "code",
   "execution_count": null,
   "id": "d1d6f19f",
   "metadata": {},
   "outputs": [],
   "source": [
    "'''\n",
    "if mat>0.5:\n",
    "    replace(1000)\n",
    "else:\n",
    "    replace(-1)"
   ]
  },
  {
   "cell_type": "raw",
   "id": "4b99ebb6",
   "metadata": {},
   "source": []
  },
  {
   "cell_type": "code",
   "execution_count": 77,
   "id": "e02d7c62",
   "metadata": {},
   "outputs": [
    {
     "data": {
      "text/plain": [
       "True"
      ]
     },
     "execution_count": 77,
     "metadata": {},
     "output_type": "execute_result"
    }
   ],
   "source": [
    "arr_bools=np.array([True,False,True,False])\n",
    "arr_bools.any() #is any value true"
   ]
  },
  {
   "cell_type": "code",
   "execution_count": 78,
   "id": "da66b3e7",
   "metadata": {},
   "outputs": [
    {
     "data": {
      "text/plain": [
       "False"
      ]
     },
     "execution_count": 78,
     "metadata": {},
     "output_type": "execute_result"
    }
   ],
   "source": [
    "arr_bools.all() #all values true"
   ]
  },
  {
   "cell_type": "code",
   "execution_count": 79,
   "id": "f63297b7",
   "metadata": {},
   "outputs": [
    {
     "name": "stdout",
     "output_type": "stream",
     "text": [
      "[[ 0.33891267 -0.05433426 -0.83300945 -2.42321684  0.56968393]]\n"
     ]
    }
   ],
   "source": [
    "import numpy as np\n",
    "y=np.random.normal(size=(1,5))\n",
    "print(y)"
   ]
  },
  {
   "cell_type": "code",
   "execution_count": 80,
   "id": "da0a7666",
   "metadata": {},
   "outputs": [
    {
     "name": "stdout",
     "output_type": "stream",
     "text": [
      "[24 30 20 31]\n"
     ]
    }
   ],
   "source": [
    "z=np.random.randint(low=2,high=50,size=4)\n",
    "print(z)"
   ]
  },
  {
   "cell_type": "code",
   "execution_count": 81,
   "id": "ee0984fc",
   "metadata": {},
   "outputs": [
    {
     "data": {
      "text/plain": [
       "array([31, 30, 20, 24])"
      ]
     },
     "execution_count": 81,
     "metadata": {},
     "output_type": "execute_result"
    }
   ],
   "source": [
    "np.random.permutation(z)  #returns a new ordering of elements in z"
   ]
  },
  {
   "cell_type": "markdown",
   "id": "ec5d80c5",
   "metadata": {},
   "source": [
    "# Normal n uniform distribution"
   ]
  },
  {
   "cell_type": "code",
   "execution_count": 83,
   "id": "b47c46c3",
   "metadata": {},
   "outputs": [
    {
     "data": {
      "text/plain": [
       "array([0.82200174, 0.89203825, 0.23471517, 0.95444998])"
      ]
     },
     "execution_count": 83,
     "metadata": {},
     "output_type": "execute_result"
    }
   ],
   "source": [
    "np.random.uniform(size=4)  #uniform distribution"
   ]
  },
  {
   "cell_type": "code",
   "execution_count": 84,
   "id": "7ebbb334",
   "metadata": {},
   "outputs": [
    {
     "data": {
      "text/plain": [
       "array([-0.68631334,  0.16786158,  0.67415046, -0.25033824])"
      ]
     },
     "execution_count": 84,
     "metadata": {},
     "output_type": "execute_result"
    }
   ],
   "source": [
    "np.random.normal(size=4)  #normal distribution"
   ]
  },
  {
   "cell_type": "markdown",
   "id": "360a84b4",
   "metadata": {},
   "source": [
    "# Merging Data sets"
   ]
  },
  {
   "cell_type": "code",
   "execution_count": 89,
   "id": "39bc0949",
   "metadata": {},
   "outputs": [
    {
     "name": "stdout",
     "output_type": "stream",
     "text": [
      "[[30 11]\n",
      " [40  9]]\n",
      "\n",
      "[[29 37]\n",
      " [ 3 10]]\n"
     ]
    }
   ],
   "source": [
    "K=np.random.randint(low=2,high=50,size=(2,2))\n",
    "print(K)\n",
    "\n",
    "print()\n",
    "M=np.random.randint(low=2,high=50,size=(2,2))\n",
    "print(M)"
   ]
  },
  {
   "cell_type": "code",
   "execution_count": 90,
   "id": "36038823",
   "metadata": {},
   "outputs": [
    {
     "data": {
      "text/plain": [
       "array([[30, 11],\n",
       "       [40,  9],\n",
       "       [29, 37],\n",
       "       [ 3, 10]])"
      ]
     },
     "execution_count": 90,
     "metadata": {},
     "output_type": "execute_result"
    }
   ],
   "source": [
    "np.vstack((K,M))  # join vertically"
   ]
  },
  {
   "cell_type": "code",
   "execution_count": 91,
   "id": "3961f540",
   "metadata": {},
   "outputs": [
    {
     "data": {
      "text/plain": [
       "array([[30, 11, 29, 37],\n",
       "       [40,  9,  3, 10]])"
      ]
     },
     "execution_count": 91,
     "metadata": {},
     "output_type": "execute_result"
    }
   ],
   "source": [
    "np.hstack((K,M)) #join horizontally"
   ]
  },
  {
   "cell_type": "code",
   "execution_count": 92,
   "id": "d89e7e66",
   "metadata": {},
   "outputs": [
    {
     "data": {
      "text/plain": [
       "array([[30, 11],\n",
       "       [40,  9],\n",
       "       [29, 37],\n",
       "       [ 3, 10]])"
      ]
     },
     "execution_count": 92,
     "metadata": {},
     "output_type": "execute_result"
    }
   ],
   "source": [
    "np.concatenate([K,M],axis=0)"
   ]
  },
  {
   "cell_type": "code",
   "execution_count": 93,
   "id": "91185531",
   "metadata": {},
   "outputs": [
    {
     "data": {
      "text/plain": [
       "array([[30, 11, 29,  3],\n",
       "       [40,  9, 37, 10]])"
      ]
     },
     "execution_count": 93,
     "metadata": {},
     "output_type": "execute_result"
    }
   ],
   "source": [
    "np.concatenate([K,M.T],axis=1)"
   ]
  },
  {
   "cell_type": "code",
   "execution_count": null,
   "id": "6d9c0160",
   "metadata": {},
   "outputs": [],
   "source": []
  }
 ],
 "metadata": {
  "kernelspec": {
   "display_name": "Python 3",
   "language": "python",
   "name": "python3"
  },
  "language_info": {
   "codemirror_mode": {
    "name": "ipython",
    "version": 3
   },
   "file_extension": ".py",
   "mimetype": "text/x-python",
   "name": "python",
   "nbconvert_exporter": "python",
   "pygments_lexer": "ipython3",
   "version": "3.8.8"
  }
 },
 "nbformat": 4,
 "nbformat_minor": 5
}
